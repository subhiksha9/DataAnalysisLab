{
  "cells": [
    {
      "cell_type": "code",
      "execution_count": 1,
      "id": "d63fc383",
      "metadata": {
        "id": "d63fc383",
        "outputId": "cb06d3ec-4487-46e6-df29-0e4c6c10ddb5",
        "colab": {
          "base_uri": "https://localhost:8080/",
          "height": 956
        }
      },
      "outputs": [
        {
          "output_type": "execute_result",
          "data": {
            "text/plain": [
              "                           Title  US Gross Worldwide Gross  US DVD Sales  \\\n",
              "0                 The Land Girls    146083          146083           NaN   \n",
              "1         First Love, Last Rites     10876           10876           NaN   \n",
              "2     I Married a Strange Person    203134          203134           NaN   \n",
              "3           Let's Talk About Sex    373615          373615           NaN   \n",
              "4                           Slam   1009819         1087521           NaN   \n",
              "...                          ...       ...             ...           ...   \n",
              "3196  Zack and Miri Make a Porno  31452765        36851125    21240321.0   \n",
              "3197                      Zodiac  33080084        83080084    20983030.0   \n",
              "3198                        Zoom  11989328        12506188     6679409.0   \n",
              "3199         The Legend of Zorro  45575336       141475336           NaN   \n",
              "3200           The Mask of Zorro  93828745       233700000           NaN   \n",
              "\n",
              "      Production Budget Release Date MPAA Rating  Running Time (min)  \\\n",
              "0             8000000.0   1998-06-12           R                 NaN   \n",
              "1              300000.0   1998-08-07           R                 NaN   \n",
              "2              250000.0   1998-08-28         NaN                 NaN   \n",
              "3              300000.0   1998-09-11         NaN                 NaN   \n",
              "4             1000000.0   1998-10-09           R                 NaN   \n",
              "...                 ...          ...         ...                 ...   \n",
              "3196         24000000.0   2008-10-31           R               101.0   \n",
              "3197         85000000.0   2007-03-02           R               157.0   \n",
              "3198         35000000.0   2006-08-11          PG                 NaN   \n",
              "3199         80000000.0   2005-10-28          PG               129.0   \n",
              "3200         65000000.0   1998-07-17       PG-13               136.0   \n",
              "\n",
              "             Distributor                        Source        Major Genre  \\\n",
              "0               Gramercy                           NaN                NaN   \n",
              "1                 Strand                           NaN              Drama   \n",
              "2              Lionsgate                           NaN             Comedy   \n",
              "3              Fine Line                           NaN             Comedy   \n",
              "4                Trimark           Original Screenplay              Drama   \n",
              "...                  ...                           ...                ...   \n",
              "3196       Weinstein Co.           Original Screenplay             Comedy   \n",
              "3197  Paramount Pictures     Based on Book/Short Story  Thriller/Suspense   \n",
              "3198       Sony Pictures  Based on Comic/Graphic Novel          Adventure   \n",
              "3199       Sony Pictures                        Remake          Adventure   \n",
              "3200       Sony Pictures                        Remake          Adventure   \n",
              "\n",
              "             Creative Type         Director  Rotten Tomatoes Rating  \\\n",
              "0                      NaN              NaN                     NaN   \n",
              "1                      NaN              NaN                     NaN   \n",
              "2                      NaN              NaN                     NaN   \n",
              "3                      NaN              NaN                    13.0   \n",
              "4     Contemporary Fiction              NaN                    62.0   \n",
              "...                    ...              ...                     ...   \n",
              "3196  Contemporary Fiction      Kevin Smith                    65.0   \n",
              "3197         Dramatization    David Fincher                    89.0   \n",
              "3198            Super Hero     Peter Hewitt                     3.0   \n",
              "3199    Historical Fiction  Martin Campbell                    26.0   \n",
              "3200    Historical Fiction  Martin Campbell                    82.0   \n",
              "\n",
              "      IMDB Rating  IMDB Votes  \n",
              "0             6.1      1071.0  \n",
              "1             6.9       207.0  \n",
              "2             6.8       865.0  \n",
              "3             NaN         NaN  \n",
              "4             3.4       165.0  \n",
              "...           ...         ...  \n",
              "3196          7.0     55687.0  \n",
              "3197          NaN         NaN  \n",
              "3198          3.4      7424.0  \n",
              "3199          5.7     21161.0  \n",
              "3200          6.7      4789.0  \n",
              "\n",
              "[3194 rows x 16 columns]"
            ],
            "text/html": [
              "\n",
              "  <div id=\"df-4d3c178c-e39f-4d2a-a3cd-b0a3eb06f62c\">\n",
              "    <div class=\"colab-df-container\">\n",
              "      <div>\n",
              "<style scoped>\n",
              "    .dataframe tbody tr th:only-of-type {\n",
              "        vertical-align: middle;\n",
              "    }\n",
              "\n",
              "    .dataframe tbody tr th {\n",
              "        vertical-align: top;\n",
              "    }\n",
              "\n",
              "    .dataframe thead th {\n",
              "        text-align: right;\n",
              "    }\n",
              "</style>\n",
              "<table border=\"1\" class=\"dataframe\">\n",
              "  <thead>\n",
              "    <tr style=\"text-align: right;\">\n",
              "      <th></th>\n",
              "      <th>Title</th>\n",
              "      <th>US Gross</th>\n",
              "      <th>Worldwide Gross</th>\n",
              "      <th>US DVD Sales</th>\n",
              "      <th>Production Budget</th>\n",
              "      <th>Release Date</th>\n",
              "      <th>MPAA Rating</th>\n",
              "      <th>Running Time (min)</th>\n",
              "      <th>Distributor</th>\n",
              "      <th>Source</th>\n",
              "      <th>Major Genre</th>\n",
              "      <th>Creative Type</th>\n",
              "      <th>Director</th>\n",
              "      <th>Rotten Tomatoes Rating</th>\n",
              "      <th>IMDB Rating</th>\n",
              "      <th>IMDB Votes</th>\n",
              "    </tr>\n",
              "  </thead>\n",
              "  <tbody>\n",
              "    <tr>\n",
              "      <th>0</th>\n",
              "      <td>The Land Girls</td>\n",
              "      <td>146083</td>\n",
              "      <td>146083</td>\n",
              "      <td>NaN</td>\n",
              "      <td>8000000.0</td>\n",
              "      <td>1998-06-12</td>\n",
              "      <td>R</td>\n",
              "      <td>NaN</td>\n",
              "      <td>Gramercy</td>\n",
              "      <td>NaN</td>\n",
              "      <td>NaN</td>\n",
              "      <td>NaN</td>\n",
              "      <td>NaN</td>\n",
              "      <td>NaN</td>\n",
              "      <td>6.1</td>\n",
              "      <td>1071.0</td>\n",
              "    </tr>\n",
              "    <tr>\n",
              "      <th>1</th>\n",
              "      <td>First Love, Last Rites</td>\n",
              "      <td>10876</td>\n",
              "      <td>10876</td>\n",
              "      <td>NaN</td>\n",
              "      <td>300000.0</td>\n",
              "      <td>1998-08-07</td>\n",
              "      <td>R</td>\n",
              "      <td>NaN</td>\n",
              "      <td>Strand</td>\n",
              "      <td>NaN</td>\n",
              "      <td>Drama</td>\n",
              "      <td>NaN</td>\n",
              "      <td>NaN</td>\n",
              "      <td>NaN</td>\n",
              "      <td>6.9</td>\n",
              "      <td>207.0</td>\n",
              "    </tr>\n",
              "    <tr>\n",
              "      <th>2</th>\n",
              "      <td>I Married a Strange Person</td>\n",
              "      <td>203134</td>\n",
              "      <td>203134</td>\n",
              "      <td>NaN</td>\n",
              "      <td>250000.0</td>\n",
              "      <td>1998-08-28</td>\n",
              "      <td>NaN</td>\n",
              "      <td>NaN</td>\n",
              "      <td>Lionsgate</td>\n",
              "      <td>NaN</td>\n",
              "      <td>Comedy</td>\n",
              "      <td>NaN</td>\n",
              "      <td>NaN</td>\n",
              "      <td>NaN</td>\n",
              "      <td>6.8</td>\n",
              "      <td>865.0</td>\n",
              "    </tr>\n",
              "    <tr>\n",
              "      <th>3</th>\n",
              "      <td>Let's Talk About Sex</td>\n",
              "      <td>373615</td>\n",
              "      <td>373615</td>\n",
              "      <td>NaN</td>\n",
              "      <td>300000.0</td>\n",
              "      <td>1998-09-11</td>\n",
              "      <td>NaN</td>\n",
              "      <td>NaN</td>\n",
              "      <td>Fine Line</td>\n",
              "      <td>NaN</td>\n",
              "      <td>Comedy</td>\n",
              "      <td>NaN</td>\n",
              "      <td>NaN</td>\n",
              "      <td>13.0</td>\n",
              "      <td>NaN</td>\n",
              "      <td>NaN</td>\n",
              "    </tr>\n",
              "    <tr>\n",
              "      <th>4</th>\n",
              "      <td>Slam</td>\n",
              "      <td>1009819</td>\n",
              "      <td>1087521</td>\n",
              "      <td>NaN</td>\n",
              "      <td>1000000.0</td>\n",
              "      <td>1998-10-09</td>\n",
              "      <td>R</td>\n",
              "      <td>NaN</td>\n",
              "      <td>Trimark</td>\n",
              "      <td>Original Screenplay</td>\n",
              "      <td>Drama</td>\n",
              "      <td>Contemporary Fiction</td>\n",
              "      <td>NaN</td>\n",
              "      <td>62.0</td>\n",
              "      <td>3.4</td>\n",
              "      <td>165.0</td>\n",
              "    </tr>\n",
              "    <tr>\n",
              "      <th>...</th>\n",
              "      <td>...</td>\n",
              "      <td>...</td>\n",
              "      <td>...</td>\n",
              "      <td>...</td>\n",
              "      <td>...</td>\n",
              "      <td>...</td>\n",
              "      <td>...</td>\n",
              "      <td>...</td>\n",
              "      <td>...</td>\n",
              "      <td>...</td>\n",
              "      <td>...</td>\n",
              "      <td>...</td>\n",
              "      <td>...</td>\n",
              "      <td>...</td>\n",
              "      <td>...</td>\n",
              "      <td>...</td>\n",
              "    </tr>\n",
              "    <tr>\n",
              "      <th>3196</th>\n",
              "      <td>Zack and Miri Make a Porno</td>\n",
              "      <td>31452765</td>\n",
              "      <td>36851125</td>\n",
              "      <td>21240321.0</td>\n",
              "      <td>24000000.0</td>\n",
              "      <td>2008-10-31</td>\n",
              "      <td>R</td>\n",
              "      <td>101.0</td>\n",
              "      <td>Weinstein Co.</td>\n",
              "      <td>Original Screenplay</td>\n",
              "      <td>Comedy</td>\n",
              "      <td>Contemporary Fiction</td>\n",
              "      <td>Kevin Smith</td>\n",
              "      <td>65.0</td>\n",
              "      <td>7.0</td>\n",
              "      <td>55687.0</td>\n",
              "    </tr>\n",
              "    <tr>\n",
              "      <th>3197</th>\n",
              "      <td>Zodiac</td>\n",
              "      <td>33080084</td>\n",
              "      <td>83080084</td>\n",
              "      <td>20983030.0</td>\n",
              "      <td>85000000.0</td>\n",
              "      <td>2007-03-02</td>\n",
              "      <td>R</td>\n",
              "      <td>157.0</td>\n",
              "      <td>Paramount Pictures</td>\n",
              "      <td>Based on Book/Short Story</td>\n",
              "      <td>Thriller/Suspense</td>\n",
              "      <td>Dramatization</td>\n",
              "      <td>David Fincher</td>\n",
              "      <td>89.0</td>\n",
              "      <td>NaN</td>\n",
              "      <td>NaN</td>\n",
              "    </tr>\n",
              "    <tr>\n",
              "      <th>3198</th>\n",
              "      <td>Zoom</td>\n",
              "      <td>11989328</td>\n",
              "      <td>12506188</td>\n",
              "      <td>6679409.0</td>\n",
              "      <td>35000000.0</td>\n",
              "      <td>2006-08-11</td>\n",
              "      <td>PG</td>\n",
              "      <td>NaN</td>\n",
              "      <td>Sony Pictures</td>\n",
              "      <td>Based on Comic/Graphic Novel</td>\n",
              "      <td>Adventure</td>\n",
              "      <td>Super Hero</td>\n",
              "      <td>Peter Hewitt</td>\n",
              "      <td>3.0</td>\n",
              "      <td>3.4</td>\n",
              "      <td>7424.0</td>\n",
              "    </tr>\n",
              "    <tr>\n",
              "      <th>3199</th>\n",
              "      <td>The Legend of Zorro</td>\n",
              "      <td>45575336</td>\n",
              "      <td>141475336</td>\n",
              "      <td>NaN</td>\n",
              "      <td>80000000.0</td>\n",
              "      <td>2005-10-28</td>\n",
              "      <td>PG</td>\n",
              "      <td>129.0</td>\n",
              "      <td>Sony Pictures</td>\n",
              "      <td>Remake</td>\n",
              "      <td>Adventure</td>\n",
              "      <td>Historical Fiction</td>\n",
              "      <td>Martin Campbell</td>\n",
              "      <td>26.0</td>\n",
              "      <td>5.7</td>\n",
              "      <td>21161.0</td>\n",
              "    </tr>\n",
              "    <tr>\n",
              "      <th>3200</th>\n",
              "      <td>The Mask of Zorro</td>\n",
              "      <td>93828745</td>\n",
              "      <td>233700000</td>\n",
              "      <td>NaN</td>\n",
              "      <td>65000000.0</td>\n",
              "      <td>1998-07-17</td>\n",
              "      <td>PG-13</td>\n",
              "      <td>136.0</td>\n",
              "      <td>Sony Pictures</td>\n",
              "      <td>Remake</td>\n",
              "      <td>Adventure</td>\n",
              "      <td>Historical Fiction</td>\n",
              "      <td>Martin Campbell</td>\n",
              "      <td>82.0</td>\n",
              "      <td>6.7</td>\n",
              "      <td>4789.0</td>\n",
              "    </tr>\n",
              "  </tbody>\n",
              "</table>\n",
              "<p>3194 rows × 16 columns</p>\n",
              "</div>\n",
              "      <button class=\"colab-df-convert\" onclick=\"convertToInteractive('df-4d3c178c-e39f-4d2a-a3cd-b0a3eb06f62c')\"\n",
              "              title=\"Convert this dataframe to an interactive table.\"\n",
              "              style=\"display:none;\">\n",
              "        \n",
              "  <svg xmlns=\"http://www.w3.org/2000/svg\" height=\"24px\"viewBox=\"0 0 24 24\"\n",
              "       width=\"24px\">\n",
              "    <path d=\"M0 0h24v24H0V0z\" fill=\"none\"/>\n",
              "    <path d=\"M18.56 5.44l.94 2.06.94-2.06 2.06-.94-2.06-.94-.94-2.06-.94 2.06-2.06.94zm-11 1L8.5 8.5l.94-2.06 2.06-.94-2.06-.94L8.5 2.5l-.94 2.06-2.06.94zm10 10l.94 2.06.94-2.06 2.06-.94-2.06-.94-.94-2.06-.94 2.06-2.06.94z\"/><path d=\"M17.41 7.96l-1.37-1.37c-.4-.4-.92-.59-1.43-.59-.52 0-1.04.2-1.43.59L10.3 9.45l-7.72 7.72c-.78.78-.78 2.05 0 2.83L4 21.41c.39.39.9.59 1.41.59.51 0 1.02-.2 1.41-.59l7.78-7.78 2.81-2.81c.8-.78.8-2.07 0-2.86zM5.41 20L4 18.59l7.72-7.72 1.47 1.35L5.41 20z\"/>\n",
              "  </svg>\n",
              "      </button>\n",
              "      \n",
              "  <style>\n",
              "    .colab-df-container {\n",
              "      display:flex;\n",
              "      flex-wrap:wrap;\n",
              "      gap: 12px;\n",
              "    }\n",
              "\n",
              "    .colab-df-convert {\n",
              "      background-color: #E8F0FE;\n",
              "      border: none;\n",
              "      border-radius: 50%;\n",
              "      cursor: pointer;\n",
              "      display: none;\n",
              "      fill: #1967D2;\n",
              "      height: 32px;\n",
              "      padding: 0 0 0 0;\n",
              "      width: 32px;\n",
              "    }\n",
              "\n",
              "    .colab-df-convert:hover {\n",
              "      background-color: #E2EBFA;\n",
              "      box-shadow: 0px 1px 2px rgba(60, 64, 67, 0.3), 0px 1px 3px 1px rgba(60, 64, 67, 0.15);\n",
              "      fill: #174EA6;\n",
              "    }\n",
              "\n",
              "    [theme=dark] .colab-df-convert {\n",
              "      background-color: #3B4455;\n",
              "      fill: #D2E3FC;\n",
              "    }\n",
              "\n",
              "    [theme=dark] .colab-df-convert:hover {\n",
              "      background-color: #434B5C;\n",
              "      box-shadow: 0px 1px 3px 1px rgba(0, 0, 0, 0.15);\n",
              "      filter: drop-shadow(0px 1px 2px rgba(0, 0, 0, 0.3));\n",
              "      fill: #FFFFFF;\n",
              "    }\n",
              "  </style>\n",
              "\n",
              "      <script>\n",
              "        const buttonEl =\n",
              "          document.querySelector('#df-4d3c178c-e39f-4d2a-a3cd-b0a3eb06f62c button.colab-df-convert');\n",
              "        buttonEl.style.display =\n",
              "          google.colab.kernel.accessAllowed ? 'block' : 'none';\n",
              "\n",
              "        async function convertToInteractive(key) {\n",
              "          const element = document.querySelector('#df-4d3c178c-e39f-4d2a-a3cd-b0a3eb06f62c');\n",
              "          const dataTable =\n",
              "            await google.colab.kernel.invokeFunction('convertToInteractive',\n",
              "                                                     [key], {});\n",
              "          if (!dataTable) return;\n",
              "\n",
              "          const docLinkHtml = 'Like what you see? Visit the ' +\n",
              "            '<a target=\"_blank\" href=https://colab.research.google.com/notebooks/data_table.ipynb>data table notebook</a>'\n",
              "            + ' to learn more about interactive tables.';\n",
              "          element.innerHTML = '';\n",
              "          dataTable['output_type'] = 'display_data';\n",
              "          await google.colab.output.renderOutput(dataTable, element);\n",
              "          const docLink = document.createElement('div');\n",
              "          docLink.innerHTML = docLinkHtml;\n",
              "          element.appendChild(docLink);\n",
              "        }\n",
              "      </script>\n",
              "    </div>\n",
              "  </div>\n",
              "  "
            ]
          },
          "metadata": {},
          "execution_count": 1
        }
      ],
      "source": [
        "import pandas as pd\n",
        "df=pd.read_csv(\"movies.csv\")\n",
        "df = df[df['Release Date']!=\"TBD\"]\n",
        "df['Release Date']=pd.to_datetime(df['Release Date'])\n",
        "df"
      ]
    },
    {
      "cell_type": "markdown",
      "id": "e24864d3",
      "metadata": {
        "id": "e24864d3"
      },
      "source": [
        "1.\t (i). Find out the no of movies released in every month of the year 1995."
      ]
    },
    {
      "cell_type": "code",
      "execution_count": 2,
      "id": "2f35ce63",
      "metadata": {
        "id": "2f35ce63",
        "outputId": "e9a4e6b5-1124-46cd-bab7-c02fa1354695",
        "colab": {
          "base_uri": "https://localhost:8080/"
        }
      },
      "outputs": [
        {
          "output_type": "execute_result",
          "data": {
            "text/plain": [
              "Release Date\n",
              "1      3\n",
              "2      2\n",
              "3      3\n",
              "4      5\n",
              "5      6\n",
              "6      7\n",
              "7      8\n",
              "8      7\n",
              "9      4\n",
              "10     8\n",
              "11     7\n",
              "12    13\n",
              "Name: Title, dtype: int64"
            ]
          },
          "metadata": {},
          "execution_count": 2
        }
      ],
      "source": [
        "b=df[df['Release Date'].dt.year==1995]\n",
        "temp=b.groupby(df['Release Date'].dt.month).count()\n",
        "temp['Title']"
      ]
    },
    {
      "cell_type": "markdown",
      "id": "01274f46",
      "metadata": {
        "id": "01274f46"
      },
      "source": [
        "(ii). Find out the no. of movies released in every year from 1990 to 1998."
      ]
    },
    {
      "cell_type": "code",
      "execution_count": 3,
      "id": "b6ef4b18",
      "metadata": {
        "id": "b6ef4b18",
        "outputId": "89596f71-e0be-4279-f3ef-254e660f04cf",
        "colab": {
          "base_uri": "https://localhost:8080/"
        }
      },
      "outputs": [
        {
          "output_type": "execute_result",
          "data": {
            "text/plain": [
              "Release Date\n",
              "1990     28\n",
              "1991     33\n",
              "1992     28\n",
              "1993     39\n",
              "1994     52\n",
              "1995     73\n",
              "1996     99\n",
              "1997     97\n",
              "1998    144\n",
              "Name: Title, dtype: int64"
            ]
          },
          "metadata": {},
          "execution_count": 3
        }
      ],
      "source": [
        "b=df[(df['Release Date'].dt.year>=1990 ) & (df['Release Date'].dt.year<=1998)]\n",
        "temp=b.groupby(df['Release Date'].dt.year).count()\n",
        "temp['Title']"
      ]
    },
    {
      "cell_type": "markdown",
      "id": "8f70d016",
      "metadata": {
        "id": "8f70d016"
      },
      "source": [
        "2.\t(i). Find no. of movies released under each genre given in the database."
      ]
    },
    {
      "cell_type": "code",
      "execution_count": 4,
      "id": "8b727f11",
      "metadata": {
        "id": "8b727f11",
        "outputId": "990477e3-8afd-4dac-a5d1-c94f5f42b87f",
        "colab": {
          "base_uri": "https://localhost:8080/"
        }
      },
      "outputs": [
        {
          "output_type": "execute_result",
          "data": {
            "text/plain": [
              "Major Genre\n",
              "Action                 420\n",
              "Adventure              274\n",
              "Black Comedy            36\n",
              "Comedy                 675\n",
              "Concert/Performance      5\n",
              "Documentary             43\n",
              "Drama                  789\n",
              "Horror                 219\n",
              "Musical                 53\n",
              "Romantic Comedy        137\n",
              "Thriller/Suspense      239\n",
              "Western                 36\n",
              "Name: Title, dtype: int64"
            ]
          },
          "metadata": {},
          "execution_count": 4
        }
      ],
      "source": [
        "temp=df.groupby('Major Genre').count()\n",
        "temp['Title']"
      ]
    },
    {
      "cell_type": "markdown",
      "id": "65277a02",
      "metadata": {
        "id": "65277a02"
      },
      "source": [
        "(ii). Find the movies under each genre with IMDB rating >7 and rotten tomatoes rating > 60."
      ]
    },
    {
      "cell_type": "code",
      "execution_count": 5,
      "id": "f4d8f0a6",
      "metadata": {
        "id": "f4d8f0a6",
        "outputId": "e2795c7e-d61f-49b8-88a6-e2fe4e873787",
        "colab": {
          "base_uri": "https://localhost:8080/",
          "height": 426
        }
      },
      "outputs": [
        {
          "output_type": "execute_result",
          "data": {
            "text/plain": [
              "                                                               Title\n",
              "Major Genre                                                         \n",
              "Action             [The Abyss, Apocalypse Now, Beverly Hills Cop,...\n",
              "Adventure          [Babe, Back to the Future, Back to the Future ...\n",
              "Black Comedy       [Brazil, American Psycho, Burn After Reading, ...\n",
              "Comedy             [American Graffiti, Annie Hall, Big, Bananas, ...\n",
              "Documentary        [The Blood of My Brother: A Story of Death in ...\n",
              "Drama              [Twin Falls Idaho, Barry Lyndon, Before Sunris...\n",
              "Horror             [Carrie, From Dusk Till Dawn, Jaws, Poltergeis...\n",
              "Musical            [Oliver!, 42nd Street, Annie Get Your Gun, The...\n",
              "Romantic Comedy    [Four Weddings and a Funeral, The Apartment, I...\n",
              "Thriller/Suspense  [Blade Runner, Blow Out, Bound, Cape Fear, The...\n",
              "Western            [Butch Cassidy and the Sundance Kid, The Balla..."
            ],
            "text/html": [
              "\n",
              "  <div id=\"df-e61b52fb-f71d-4e1d-9542-0cbf05415ad8\">\n",
              "    <div class=\"colab-df-container\">\n",
              "      <div>\n",
              "<style scoped>\n",
              "    .dataframe tbody tr th:only-of-type {\n",
              "        vertical-align: middle;\n",
              "    }\n",
              "\n",
              "    .dataframe tbody tr th {\n",
              "        vertical-align: top;\n",
              "    }\n",
              "\n",
              "    .dataframe thead th {\n",
              "        text-align: right;\n",
              "    }\n",
              "</style>\n",
              "<table border=\"1\" class=\"dataframe\">\n",
              "  <thead>\n",
              "    <tr style=\"text-align: right;\">\n",
              "      <th></th>\n",
              "      <th>Title</th>\n",
              "    </tr>\n",
              "    <tr>\n",
              "      <th>Major Genre</th>\n",
              "      <th></th>\n",
              "    </tr>\n",
              "  </thead>\n",
              "  <tbody>\n",
              "    <tr>\n",
              "      <th>Action</th>\n",
              "      <td>[The Abyss, Apocalypse Now, Beverly Hills Cop,...</td>\n",
              "    </tr>\n",
              "    <tr>\n",
              "      <th>Adventure</th>\n",
              "      <td>[Babe, Back to the Future, Back to the Future ...</td>\n",
              "    </tr>\n",
              "    <tr>\n",
              "      <th>Black Comedy</th>\n",
              "      <td>[Brazil, American Psycho, Burn After Reading, ...</td>\n",
              "    </tr>\n",
              "    <tr>\n",
              "      <th>Comedy</th>\n",
              "      <td>[American Graffiti, Annie Hall, Big, Bananas, ...</td>\n",
              "    </tr>\n",
              "    <tr>\n",
              "      <th>Documentary</th>\n",
              "      <td>[The Blood of My Brother: A Story of Death in ...</td>\n",
              "    </tr>\n",
              "    <tr>\n",
              "      <th>Drama</th>\n",
              "      <td>[Twin Falls Idaho, Barry Lyndon, Before Sunris...</td>\n",
              "    </tr>\n",
              "    <tr>\n",
              "      <th>Horror</th>\n",
              "      <td>[Carrie, From Dusk Till Dawn, Jaws, Poltergeis...</td>\n",
              "    </tr>\n",
              "    <tr>\n",
              "      <th>Musical</th>\n",
              "      <td>[Oliver!, 42nd Street, Annie Get Your Gun, The...</td>\n",
              "    </tr>\n",
              "    <tr>\n",
              "      <th>Romantic Comedy</th>\n",
              "      <td>[Four Weddings and a Funeral, The Apartment, I...</td>\n",
              "    </tr>\n",
              "    <tr>\n",
              "      <th>Thriller/Suspense</th>\n",
              "      <td>[Blade Runner, Blow Out, Bound, Cape Fear, The...</td>\n",
              "    </tr>\n",
              "    <tr>\n",
              "      <th>Western</th>\n",
              "      <td>[Butch Cassidy and the Sundance Kid, The Balla...</td>\n",
              "    </tr>\n",
              "  </tbody>\n",
              "</table>\n",
              "</div>\n",
              "      <button class=\"colab-df-convert\" onclick=\"convertToInteractive('df-e61b52fb-f71d-4e1d-9542-0cbf05415ad8')\"\n",
              "              title=\"Convert this dataframe to an interactive table.\"\n",
              "              style=\"display:none;\">\n",
              "        \n",
              "  <svg xmlns=\"http://www.w3.org/2000/svg\" height=\"24px\"viewBox=\"0 0 24 24\"\n",
              "       width=\"24px\">\n",
              "    <path d=\"M0 0h24v24H0V0z\" fill=\"none\"/>\n",
              "    <path d=\"M18.56 5.44l.94 2.06.94-2.06 2.06-.94-2.06-.94-.94-2.06-.94 2.06-2.06.94zm-11 1L8.5 8.5l.94-2.06 2.06-.94-2.06-.94L8.5 2.5l-.94 2.06-2.06.94zm10 10l.94 2.06.94-2.06 2.06-.94-2.06-.94-.94-2.06-.94 2.06-2.06.94z\"/><path d=\"M17.41 7.96l-1.37-1.37c-.4-.4-.92-.59-1.43-.59-.52 0-1.04.2-1.43.59L10.3 9.45l-7.72 7.72c-.78.78-.78 2.05 0 2.83L4 21.41c.39.39.9.59 1.41.59.51 0 1.02-.2 1.41-.59l7.78-7.78 2.81-2.81c.8-.78.8-2.07 0-2.86zM5.41 20L4 18.59l7.72-7.72 1.47 1.35L5.41 20z\"/>\n",
              "  </svg>\n",
              "      </button>\n",
              "      \n",
              "  <style>\n",
              "    .colab-df-container {\n",
              "      display:flex;\n",
              "      flex-wrap:wrap;\n",
              "      gap: 12px;\n",
              "    }\n",
              "\n",
              "    .colab-df-convert {\n",
              "      background-color: #E8F0FE;\n",
              "      border: none;\n",
              "      border-radius: 50%;\n",
              "      cursor: pointer;\n",
              "      display: none;\n",
              "      fill: #1967D2;\n",
              "      height: 32px;\n",
              "      padding: 0 0 0 0;\n",
              "      width: 32px;\n",
              "    }\n",
              "\n",
              "    .colab-df-convert:hover {\n",
              "      background-color: #E2EBFA;\n",
              "      box-shadow: 0px 1px 2px rgba(60, 64, 67, 0.3), 0px 1px 3px 1px rgba(60, 64, 67, 0.15);\n",
              "      fill: #174EA6;\n",
              "    }\n",
              "\n",
              "    [theme=dark] .colab-df-convert {\n",
              "      background-color: #3B4455;\n",
              "      fill: #D2E3FC;\n",
              "    }\n",
              "\n",
              "    [theme=dark] .colab-df-convert:hover {\n",
              "      background-color: #434B5C;\n",
              "      box-shadow: 0px 1px 3px 1px rgba(0, 0, 0, 0.15);\n",
              "      filter: drop-shadow(0px 1px 2px rgba(0, 0, 0, 0.3));\n",
              "      fill: #FFFFFF;\n",
              "    }\n",
              "  </style>\n",
              "\n",
              "      <script>\n",
              "        const buttonEl =\n",
              "          document.querySelector('#df-e61b52fb-f71d-4e1d-9542-0cbf05415ad8 button.colab-df-convert');\n",
              "        buttonEl.style.display =\n",
              "          google.colab.kernel.accessAllowed ? 'block' : 'none';\n",
              "\n",
              "        async function convertToInteractive(key) {\n",
              "          const element = document.querySelector('#df-e61b52fb-f71d-4e1d-9542-0cbf05415ad8');\n",
              "          const dataTable =\n",
              "            await google.colab.kernel.invokeFunction('convertToInteractive',\n",
              "                                                     [key], {});\n",
              "          if (!dataTable) return;\n",
              "\n",
              "          const docLinkHtml = 'Like what you see? Visit the ' +\n",
              "            '<a target=\"_blank\" href=https://colab.research.google.com/notebooks/data_table.ipynb>data table notebook</a>'\n",
              "            + ' to learn more about interactive tables.';\n",
              "          element.innerHTML = '';\n",
              "          dataTable['output_type'] = 'display_data';\n",
              "          await google.colab.output.renderOutput(dataTable, element);\n",
              "          const docLink = document.createElement('div');\n",
              "          docLink.innerHTML = docLinkHtml;\n",
              "          element.appendChild(docLink);\n",
              "        }\n",
              "      </script>\n",
              "    </div>\n",
              "  </div>\n",
              "  "
            ]
          },
          "metadata": {},
          "execution_count": 5
        }
      ],
      "source": [
        "b=df[(df['IMDB Rating']>7) & (df['Rotten Tomatoes Rating']>60)]\n",
        "b=b[['Major Genre','Title']]\n",
        "temp=b.groupby('Major Genre').agg(list)\n",
        "temp"
      ]
    },
    {
      "cell_type": "markdown",
      "id": "703a1d8b",
      "metadata": {
        "id": "703a1d8b"
      },
      "source": [
        "3.\t(i). Find the movies released under each fiction with each director in the ascending order of release dates."
      ]
    },
    {
      "cell_type": "code",
      "execution_count": 6,
      "id": "3b403322",
      "metadata": {
        "id": "3b403322",
        "outputId": "ecc2f02f-f0d3-4769-ee60-1fc3ee8c22bc",
        "colab": {
          "base_uri": "https://localhost:8080/"
        }
      },
      "outputs": [
        {
          "output_type": "execute_result",
          "data": {
            "text/plain": [
              "Director\n",
              "Akira Kurosawa                                    [Shichinin no samurai]\n",
              "Albert Hughes                                        [Menace II Society]\n",
              "Alex Proyas                                                   [I, Robot]\n",
              "Andrei Konchalovsky                                       [Tango & Cash]\n",
              "Andrew Davis                         [Chain Reaction, Collateral Damage]\n",
              "                                             ...                        \n",
              "Werner Herzog                                              [Rescue Dawn]\n",
              "William Friedkin                                            [The Hunted]\n",
              "Wolfgang Petersen                                  [Air Force One, Troy]\n",
              "Yimou Zhang            [Jet Li's Hero, House of Flying Daggers, Man c...\n",
              "Zack Snyder                                              [300, Watchmen]\n",
              "Name: Title, Length: 157, dtype: object"
            ]
          },
          "metadata": {},
          "execution_count": 6
        }
      ],
      "source": [
        "temp=df[df['Major Genre']=='Action'].sort_values(\"Release Date\")\n",
        "q=temp.groupby(\"Director\")[\"Title\"].agg(list)\n",
        "q"
      ]
    },
    {
      "cell_type": "markdown",
      "id": "9d71a074",
      "metadata": {
        "id": "9d71a074"
      },
      "source": [
        "(ii). Find movies released under each distributor in the order of genre and director."
      ]
    },
    {
      "cell_type": "code",
      "execution_count": 7,
      "id": "175b2815",
      "metadata": {
        "id": "175b2815",
        "outputId": "5774c39d-5064-4a94-b8d2-f18302450038",
        "colab": {
          "base_uri": "https://localhost:8080/"
        }
      },
      "outputs": [
        {
          "output_type": "execute_result",
          "data": {
            "text/plain": [
              "Distributor\n",
              "20th Century Fox               [I, Robot, Chain Reaction, X-Men: The Last Sta...\n",
              "3D Entertainment                    [Dolphins and Whales Tribes of the Ocean 3D]\n",
              "8X Entertainment                                         [Megiddo: Omega Code 2]\n",
              "Access Motion Picture Group                                        [Dinner Rush]\n",
              "AdLab Films                                                             [Krrish]\n",
              "                                                     ...                        \n",
              "Wolfe Releasing                                                        [Show Me]\n",
              "Women Make Movies                                               [Sisters in Law]\n",
              "Yari Film Group Releasing                                      [The Illusionist]\n",
              "Yash Raj Films                 [Ta Ra Rum Pum, Kabhi Alvida Naa Kehna, Neal n...\n",
              "Zeitgeist                      [Travellers and Magicians, AimÈe & Jaguar, Now...\n",
              "Name: Title, Length: 173, dtype: object"
            ]
          },
          "metadata": {},
          "execution_count": 7
        }
      ],
      "source": [
        "df.sort_values(by=['Major Genre','Director']).groupby(['Distributor'])['Title'].apply(list)"
      ]
    },
    {
      "cell_type": "markdown",
      "id": "f1bb068b",
      "metadata": {
        "id": "f1bb068b"
      },
      "source": [
        "4.\t(i). Find the movies released world-wide and find out the revenue received world-wide other than US with their ratings."
      ]
    },
    {
      "cell_type": "code",
      "execution_count": 8,
      "id": "8f46014d",
      "metadata": {
        "id": "8f46014d",
        "outputId": "6a685cc9-7ebd-4a51-cb6a-40fd1b69db53",
        "colab": {
          "base_uri": "https://localhost:8080/"
        }
      },
      "outputs": [
        {
          "output_type": "stream",
          "name": "stdout",
          "text": [
            "                           Title  res gross  IMDB Rating\n",
            "0                 The Land Girls          0          6.1\n",
            "1         First Love, Last Rites          0          6.9\n",
            "2     I Married a Strange Person          0          6.8\n",
            "3           Let's Talk About Sex          0          NaN\n",
            "4                           Slam      77702          3.4\n",
            "...                          ...        ...          ...\n",
            "3196  Zack and Miri Make a Porno    5398360          7.0\n",
            "3197                      Zodiac   50000000          NaN\n",
            "3198                        Zoom     516860          3.4\n",
            "3199         The Legend of Zorro   95900000          5.7\n",
            "3200           The Mask of Zorro  139871255          6.7\n",
            "\n",
            "[3187 rows x 3 columns]\n"
          ]
        },
        {
          "output_type": "stream",
          "name": "stderr",
          "text": [
            "<ipython-input-8-977d2d61655f>:5: SettingWithCopyWarning: \n",
            "A value is trying to be set on a copy of a slice from a DataFrame.\n",
            "Try using .loc[row_indexer,col_indexer] = value instead\n",
            "\n",
            "See the caveats in the documentation: https://pandas.pydata.org/pandas-docs/stable/user_guide/indexing.html#returning-a-view-versus-a-copy\n",
            "  s['Worldwide Gross']=s['Worldwide Gross'].astype(int)\n",
            "<ipython-input-8-977d2d61655f>:6: SettingWithCopyWarning: \n",
            "A value is trying to be set on a copy of a slice from a DataFrame.\n",
            "Try using .loc[row_indexer,col_indexer] = value instead\n",
            "\n",
            "See the caveats in the documentation: https://pandas.pydata.org/pandas-docs/stable/user_guide/indexing.html#returning-a-view-versus-a-copy\n",
            "  s['US Gross']=s['US Gross'].astype(int)\n",
            "<ipython-input-8-977d2d61655f>:7: SettingWithCopyWarning: \n",
            "A value is trying to be set on a copy of a slice from a DataFrame.\n",
            "Try using .loc[row_indexer,col_indexer] = value instead\n",
            "\n",
            "See the caveats in the documentation: https://pandas.pydata.org/pandas-docs/stable/user_guide/indexing.html#returning-a-view-versus-a-copy\n",
            "  s['res gross']=s['Worldwide Gross'].sub(s['US Gross'])\n"
          ]
        }
      ],
      "source": [
        "import numpy as np\n",
        "df['Worldwide Gross'].replace('Unknown',np.nan,inplace=True)\n",
        "df['US Gross'].replace('Unknown',np.nan,inplace=True)\n",
        "s=df[df['Worldwide Gross'].isnull()==False]\n",
        "s['Worldwide Gross']=s['Worldwide Gross'].astype(int)\n",
        "s['US Gross']=s['US Gross'].astype(int)\n",
        "s['res gross']=s['Worldwide Gross'].sub(s['US Gross'])\n",
        "print(s[['Title','res gross','IMDB Rating']])"
      ]
    },
    {
      "cell_type": "markdown",
      "id": "36a9a70d",
      "metadata": {
        "id": "36a9a70d"
      },
      "source": [
        "(ii). Find the movies with loss & profit released in each year with genre and ratings."
      ]
    },
    {
      "cell_type": "code",
      "execution_count": 9,
      "id": "5f8c4e57",
      "metadata": {
        "id": "5f8c4e57",
        "outputId": "b66973c4-5f4f-45ea-86a1-382fe04c2422",
        "colab": {
          "base_uri": "https://localhost:8080/"
        }
      },
      "outputs": [
        {
          "output_type": "execute_result",
          "data": {
            "text/plain": [
              "profit    [The Broadway Melody, It Happened One Night, M...\n",
              "Name: Title, dtype: object"
            ]
          },
          "metadata": {},
          "execution_count": 9
        }
      ],
      "source": [
        "df['Production Budget'].replace('NA',np.nan,inplace=True)\n",
        "df['Production Budget'].fillna(0).astype(float)\n",
        "df['Worldwide Gross'].fillna(0)\n",
        "df['Worldwide Gross']=df['Worldwide Gross'].astype(float)\n",
        "df['profit']=df['Worldwide Gross'].sub(df['Production Budget'])\n",
        "df.groupby([df['Release Date'].dt.year,'Major Genre','IMDB Rating'])['Title'].apply(list).aggregate({'profit':sum})"
      ]
    }
  ],
  "metadata": {
    "kernelspec": {
      "display_name": "Python 3 (ipykernel)",
      "language": "python",
      "name": "python3"
    },
    "language_info": {
      "codemirror_mode": {
        "name": "ipython",
        "version": 3
      },
      "file_extension": ".py",
      "mimetype": "text/x-python",
      "name": "python",
      "nbconvert_exporter": "python",
      "pygments_lexer": "ipython3",
      "version": "3.9.7"
    },
    "colab": {
      "provenance": []
    }
  },
  "nbformat": 4,
  "nbformat_minor": 5
}