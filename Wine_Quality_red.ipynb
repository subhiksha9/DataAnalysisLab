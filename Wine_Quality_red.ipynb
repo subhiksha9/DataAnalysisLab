{
  "nbformat": 4,
  "nbformat_minor": 0,
  "metadata": {
    "colab": {
      "provenance": [],
      "authorship_tag": "ABX9TyNwaRVOxo1yIeOpsh4yTmbe",
      "include_colab_link": true
    },
    "kernelspec": {
      "name": "python3",
      "display_name": "Python 3"
    },
    "language_info": {
      "name": "python"
    }
  },
  "cells": [
    {
      "cell_type": "markdown",
      "metadata": {
        "id": "view-in-github",
        "colab_type": "text"
      },
      "source": [
        "<a href=\"https://colab.research.google.com/github/subhiksha9/DataAnalysisLab/blob/main/Wine_Quality_red.ipynb\" target=\"_parent\"><img src=\"https://colab.research.google.com/assets/colab-badge.svg\" alt=\"Open In Colab\"/></a>"
      ]
    },
    {
      "cell_type": "markdown",
      "source": [
        "1.\tDownload the dataset winequality-red.csv file( each column is separated by a semicolon (;)) from the UCI Machine Learning Repository"
      ],
      "metadata": {
        "id": "wdUzd9e05_NQ"
      }
    },
    {
      "cell_type": "markdown",
      "source": [
        "2.\tConvert it to numPy array, name it as wines (leave the first row of the list) and specify the data type of array as float."
      ],
      "metadata": {
        "id": "zlHjbqS-6PK5"
      }
    },
    {
      "cell_type": "code",
      "execution_count": 23,
      "metadata": {
        "colab": {
          "base_uri": "https://localhost:8080/"
        },
        "id": "RVudf-PM5sxZ",
        "outputId": "97625b58-48cb-4420-882f-5b8ab213b7eb"
      },
      "outputs": [
        {
          "output_type": "stream",
          "name": "stdout",
          "text": [
            "[[ 7.4    0.7    0.    ...  0.56   9.4    5.   ]\n",
            " [ 7.8    0.88   0.    ...  0.68   9.8    5.   ]\n",
            " [ 7.8    0.76   0.04  ...  0.65   9.8    5.   ]\n",
            " ...\n",
            " [ 6.3    0.51   0.13  ...  0.75  11.     6.   ]\n",
            " [ 5.9    0.645  0.12  ...  0.71  10.2    5.   ]\n",
            " [ 6.     0.31   0.47  ...  0.66  11.     6.   ]]\n"
          ]
        }
      ],
      "source": [
        "import pandas as pd\n",
        "import numpy as np\n",
        "wines=np.genfromtxt(r\"winequality-red.csv\",delimiter=\";\",skip_header=1,dtype=float)\n",
        "print(wines)"
      ]
    },
    {
      "cell_type": "markdown",
      "source": [
        "3.\tIdentify the shape of the array."
      ],
      "metadata": {
        "id": "8ZO8G1A46YbT"
      }
    },
    {
      "cell_type": "code",
      "source": [
        "wines.shape"
      ],
      "metadata": {
        "colab": {
          "base_uri": "https://localhost:8080/"
        },
        "id": "q4tZ096A6bJm",
        "outputId": "6c981352-d5d8-4bee-fd6c-018e3fe6e881"
      },
      "execution_count": 24,
      "outputs": [
        {
          "output_type": "execute_result",
          "data": {
            "text/plain": [
              "(1599, 12)"
            ]
          },
          "metadata": {},
          "execution_count": 24
        }
      ]
    },
    {
      "cell_type": "markdown",
      "source": [
        "4.\tDisplay the element at row 3 and column 4."
      ],
      "metadata": {
        "id": "AMJAtX5K6hq9"
      }
    },
    {
      "cell_type": "code",
      "source": [
        "wines[2,3]"
      ],
      "metadata": {
        "colab": {
          "base_uri": "https://localhost:8080/"
        },
        "id": "15Z-2rxo6itC",
        "outputId": "a490da90-e47c-4883-da4e-0c5189cb5a1e"
      },
      "execution_count": 25,
      "outputs": [
        {
          "output_type": "execute_result",
          "data": {
            "text/plain": [
              "2.3"
            ]
          },
          "metadata": {},
          "execution_count": 25
        }
      ]
    },
    {
      "cell_type": "markdown",
      "source": [
        "5.\t Display the first three items from the fourth column."
      ],
      "metadata": {
        "id": "z8S4NmnA6nwQ"
      }
    },
    {
      "cell_type": "code",
      "source": [
        "wines[0:3,3]"
      ],
      "metadata": {
        "colab": {
          "base_uri": "https://localhost:8080/"
        },
        "id": "Kl0-Gmzu6ozY",
        "outputId": "d6bbaa81-4f09-45fa-a935-2627a60c597c"
      },
      "execution_count": 26,
      "outputs": [
        {
          "output_type": "execute_result",
          "data": {
            "text/plain": [
              "array([1.9, 2.6, 2.3])"
            ]
          },
          "metadata": {},
          "execution_count": 26
        }
      ]
    },
    {
      "cell_type": "markdown",
      "source": [
        "6.\tDisplay third column from each row."
      ],
      "metadata": {
        "id": "uKmLszY67lRn"
      }
    },
    {
      "cell_type": "code",
      "source": [
        "wines[:,2]"
      ],
      "metadata": {
        "colab": {
          "base_uri": "https://localhost:8080/"
        },
        "id": "cN8e3zZz7noA",
        "outputId": "83effefb-ce77-4688-b47c-8d6a3ff04696"
      },
      "execution_count": 27,
      "outputs": [
        {
          "output_type": "execute_result",
          "data": {
            "text/plain": [
              "array([0.  , 0.  , 0.04, ..., 0.13, 0.12, 0.47])"
            ]
          },
          "metadata": {},
          "execution_count": 27
        }
      ]
    },
    {
      "cell_type": "markdown",
      "source": [
        "7.\tDisplay fourth row."
      ],
      "metadata": {
        "id": "ha9xreWF9Rwc"
      }
    },
    {
      "cell_type": "code",
      "source": [
        "wines[3]"
      ],
      "metadata": {
        "colab": {
          "base_uri": "https://localhost:8080/"
        },
        "id": "yfgtJdqM9SiL",
        "outputId": "78718361-da9b-47d8-8693-07f0ee69d981"
      },
      "execution_count": 28,
      "outputs": [
        {
          "output_type": "execute_result",
          "data": {
            "text/plain": [
              "array([11.2  ,  0.28 ,  0.56 ,  1.9  ,  0.075, 17.   , 60.   ,  0.998,\n",
              "        3.16 ,  0.58 ,  9.8  ,  6.   ])"
            ]
          },
          "metadata": {},
          "execution_count": 28
        }
      ]
    },
    {
      "cell_type": "markdown",
      "source": [
        "8.\tAssign value 10 to 2nd row and 6th column element."
      ],
      "metadata": {
        "id": "KUBBTEAI9YXJ"
      }
    },
    {
      "cell_type": "code",
      "source": [
        "wines[1,5]=10\n",
        "wines"
      ],
      "metadata": {
        "colab": {
          "base_uri": "https://localhost:8080/"
        },
        "id": "WW7XFwTp9cKh",
        "outputId": "54fa31b5-a2ed-4281-e9e1-66ca5854a6b0"
      },
      "execution_count": 29,
      "outputs": [
        {
          "output_type": "execute_result",
          "data": {
            "text/plain": [
              "array([[ 7.4  ,  0.7  ,  0.   , ...,  0.56 ,  9.4  ,  5.   ],\n",
              "       [ 7.8  ,  0.88 ,  0.   , ...,  0.68 ,  9.8  ,  5.   ],\n",
              "       [ 7.8  ,  0.76 ,  0.04 , ...,  0.65 ,  9.8  ,  5.   ],\n",
              "       ...,\n",
              "       [ 6.3  ,  0.51 ,  0.13 , ...,  0.75 , 11.   ,  6.   ],\n",
              "       [ 5.9  ,  0.645,  0.12 , ...,  0.71 , 10.2  ,  5.   ],\n",
              "       [ 6.   ,  0.31 ,  0.47 , ...,  0.66 , 11.   ,  6.   ]])"
            ]
          },
          "metadata": {},
          "execution_count": 29
        }
      ]
    },
    {
      "cell_type": "markdown",
      "source": [
        "9.\tTake the 10th column from wines array and name that slice as slice_new and assign value 666 to all elements of slice_new."
      ],
      "metadata": {
        "id": "XdqBbG6h9wJ6"
      }
    },
    {
      "cell_type": "code",
      "source": [
        "slice_new=wines[:,9]\n",
        "slice_new[:]=666\n",
        "slice_new\n",
        "wines[:,9]"
      ],
      "metadata": {
        "colab": {
          "base_uri": "https://localhost:8080/"
        },
        "id": "nDzMefZQ9xCg",
        "outputId": "c70ae043-20c7-4b3f-b78f-c41c232c28c5"
      },
      "execution_count": 30,
      "outputs": [
        {
          "output_type": "execute_result",
          "data": {
            "text/plain": [
              "array([666., 666., 666., ..., 666., 666., 666.])"
            ]
          },
          "metadata": {},
          "execution_count": 30
        }
      ]
    },
    {
      "cell_type": "markdown",
      "source": [
        "10.\tDisplay wines array."
      ],
      "metadata": {
        "id": "6n9rO6AP99sO"
      }
    },
    {
      "cell_type": "code",
      "source": [
        "wines"
      ],
      "metadata": {
        "colab": {
          "base_uri": "https://localhost:8080/"
        },
        "id": "Z-dzVW1j9-pU",
        "outputId": "a2065383-a29b-4ddd-ddf1-7ceceb87f301"
      },
      "execution_count": 31,
      "outputs": [
        {
          "output_type": "execute_result",
          "data": {
            "text/plain": [
              "array([[7.40e+00, 7.00e-01, 0.00e+00, ..., 6.66e+02, 9.40e+00, 5.00e+00],\n",
              "       [7.80e+00, 8.80e-01, 0.00e+00, ..., 6.66e+02, 9.80e+00, 5.00e+00],\n",
              "       [7.80e+00, 7.60e-01, 4.00e-02, ..., 6.66e+02, 9.80e+00, 5.00e+00],\n",
              "       ...,\n",
              "       [6.30e+00, 5.10e-01, 1.30e-01, ..., 6.66e+02, 1.10e+01, 6.00e+00],\n",
              "       [5.90e+00, 6.45e-01, 1.20e-01, ..., 6.66e+02, 1.02e+01, 5.00e+00],\n",
              "       [6.00e+00, 3.10e-01, 4.70e-01, ..., 6.66e+02, 1.10e+01, 6.00e+00]])"
            ]
          },
          "metadata": {},
          "execution_count": 31
        }
      ]
    },
    {
      "cell_type": "markdown",
      "source": [
        "11.\tFind the data type of wines array and Change the data type to int."
      ],
      "metadata": {
        "id": "DewfWF0G-CkP"
      }
    },
    {
      "cell_type": "code",
      "source": [
        "print(wines.dtype)\n",
        "wines=wines.astype(int)\n",
        "print(wines.dtype)"
      ],
      "metadata": {
        "colab": {
          "base_uri": "https://localhost:8080/"
        },
        "id": "rmCy6Dd8-GJF",
        "outputId": "925990d5-fb7f-4f62-f114-e25e8740ee0c"
      },
      "execution_count": 32,
      "outputs": [
        {
          "output_type": "stream",
          "name": "stdout",
          "text": [
            "float64\n",
            "int64\n"
          ]
        }
      ]
    },
    {
      "cell_type": "markdown",
      "source": [
        "12.\tAdd 10 points to each quality score."
      ],
      "metadata": {
        "id": "qYZwnwzS-Q5E"
      }
    },
    {
      "cell_type": "code",
      "source": [
        "wines[:][11]=wines[:][11]+10"
      ],
      "metadata": {
        "id": "IbGZt_8S-Uwp"
      },
      "execution_count": 33,
      "outputs": []
    },
    {
      "cell_type": "markdown",
      "source": [
        "13.\tFind the sum of all the elements in an array"
      ],
      "metadata": {
        "id": "Qofr2gti-2E6"
      }
    },
    {
      "cell_type": "code",
      "source": [
        "print(np.sum(wines))"
      ],
      "metadata": {
        "colab": {
          "base_uri": "https://localhost:8080/"
        },
        "id": "uOjIS4YX-5ua",
        "outputId": "2b04607e-0405-40cd-f085-e9017e4a825f"
      },
      "execution_count": 34,
      "outputs": [
        {
          "output_type": "stream",
          "name": "stdout",
          "text": [
            "1210518\n"
          ]
        }
      ]
    },
    {
      "cell_type": "markdown",
      "source": [
        "14.\tFind the sum of all the values in every column."
      ],
      "metadata": {
        "id": "eO_3Tvta_AKO"
      }
    },
    {
      "cell_type": "code",
      "source": [
        "np.sum(wines,axis=0)"
      ],
      "metadata": {
        "colab": {
          "base_uri": "https://localhost:8080/"
        },
        "id": "K2Kqb42c_Fu9",
        "outputId": "1fb46725-01d5-4b1c-9aee-95c070c323e9"
      },
      "execution_count": 36,
      "outputs": [
        {
          "output_type": "execute_result",
          "data": {
            "text/plain": [
              "array([  12599,      34,      11,    3360,      10,   25377,   74311,\n",
              "            91,    4780, 1064944,   15979,    9022])"
            ]
          },
          "metadata": {},
          "execution_count": 36
        }
      ]
    },
    {
      "cell_type": "markdown",
      "source": [
        "15.\tFind the sum of all the values in every row."
      ],
      "metadata": {
        "id": "aiyI_ercAXDW"
      }
    },
    {
      "cell_type": "code",
      "source": [
        "np.sum(wines,axis=1)"
      ],
      "metadata": {
        "colab": {
          "base_uri": "https://localhost:8080/"
        },
        "id": "rBt7p_wwAaR3",
        "outputId": "522476b7-4802-48b0-a20a-41c9633be06b"
      },
      "execution_count": 37,
      "outputs": [
        {
          "output_type": "execute_result",
          "data": {
            "text/plain": [
              "array([736, 769, 761, ..., 763, 767, 755])"
            ]
          },
          "metadata": {},
          "execution_count": 37
        }
      ]
    },
    {
      "cell_type": "markdown",
      "source": [
        "16.\tAdd the quality column to itself."
      ],
      "metadata": {
        "id": "hHc5bzxLAz7R"
      }
    },
    {
      "cell_type": "code",
      "source": [
        "wines[:,10]=np.add(wines[:,10],wines[:,10])\n",
        "wines"
      ],
      "metadata": {
        "colab": {
          "base_uri": "https://localhost:8080/"
        },
        "id": "QFPgZIbsA3Jr",
        "outputId": "def17ab6-7700-47e7-b5c5-bc8c98d60509"
      },
      "execution_count": 38,
      "outputs": [
        {
          "output_type": "execute_result",
          "data": {
            "text/plain": [
              "array([[  7,   0,   0, ..., 666,  18,   5],\n",
              "       [  7,   0,   0, ..., 666,  18,   5],\n",
              "       [  7,   0,   0, ..., 666,  18,   5],\n",
              "       ...,\n",
              "       [  6,   0,   0, ..., 666,  22,   6],\n",
              "       [  5,   0,   0, ..., 666,  20,   5],\n",
              "       [  6,   0,   0, ..., 666,  22,   6]])"
            ]
          },
          "metadata": {},
          "execution_count": 38
        }
      ]
    },
    {
      "cell_type": "markdown",
      "source": [
        "17.\tMultiply alcohol by quality."
      ],
      "metadata": {
        "id": "mBnmsqpaA-1f"
      }
    },
    {
      "cell_type": "code",
      "source": [
        "wines[:,9]*wines[:,10]"
      ],
      "metadata": {
        "colab": {
          "base_uri": "https://localhost:8080/"
        },
        "id": "yP3mEeZgBCKC",
        "outputId": "5c22e2d3-3348-4849-f1f3-fb144bf59e98"
      },
      "execution_count": 42,
      "outputs": [
        {
          "output_type": "execute_result",
          "data": {
            "text/plain": [
              "array([11988, 11988, 11988, ..., 14652, 13320, 14652])"
            ]
          },
          "metadata": {},
          "execution_count": 42
        }
      ]
    },
    {
      "cell_type": "markdown",
      "source": [
        "18.\tDisplay which wines have a quality rating higher than 5."
      ],
      "metadata": {
        "id": "CNh3qCWnBjK6"
      }
    },
    {
      "cell_type": "code",
      "source": [
        "wines[wines[:,10]>5,10]"
      ],
      "metadata": {
        "colab": {
          "base_uri": "https://localhost:8080/"
        },
        "id": "IyIyXTZhBmwc",
        "outputId": "52643968-43de-4dc9-8abf-27b5d082da8e"
      },
      "execution_count": 43,
      "outputs": [
        {
          "output_type": "execute_result",
          "data": {
            "text/plain": [
              "array([18, 18, 18, ..., 22, 20, 22])"
            ]
          },
          "metadata": {},
          "execution_count": 43
        }
      ]
    },
    {
      "cell_type": "markdown",
      "source": [
        "19.\tCheck if any wines have a quality rating equal to 10."
      ],
      "metadata": {
        "id": "dXha8KQkBrxY"
      }
    },
    {
      "cell_type": "code",
      "source": [
        "wines[wines[:,10]==10,10]"
      ],
      "metadata": {
        "colab": {
          "base_uri": "https://localhost:8080/"
        },
        "id": "xSSGorkHBwCS",
        "outputId": "3947f2c8-d58b-4c5f-86a3-be4db876e9e0"
      },
      "execution_count": 44,
      "outputs": [
        {
          "output_type": "execute_result",
          "data": {
            "text/plain": [
              "array([], dtype=int64)"
            ]
          },
          "metadata": {},
          "execution_count": 44
        }
      ]
    },
    {
      "cell_type": "markdown",
      "source": [
        "20.\tSelect rows in wines where the quality is over 7"
      ],
      "metadata": {
        "id": "tlB-QdTLB11G"
      }
    },
    {
      "cell_type": "code",
      "source": [
        "wines[wines[:,10]>7]"
      ],
      "metadata": {
        "colab": {
          "base_uri": "https://localhost:8080/"
        },
        "id": "KulLSMHZB5il",
        "outputId": "2b370f4b-604f-4e68-f691-97ed9e174f74"
      },
      "execution_count": 45,
      "outputs": [
        {
          "output_type": "execute_result",
          "data": {
            "text/plain": [
              "array([[  7,   0,   0, ..., 666,  18,   5],\n",
              "       [  7,   0,   0, ..., 666,  18,   5],\n",
              "       [  7,   0,   0, ..., 666,  18,   5],\n",
              "       ...,\n",
              "       [  6,   0,   0, ..., 666,  22,   6],\n",
              "       [  5,   0,   0, ..., 666,  20,   5],\n",
              "       [  6,   0,   0, ..., 666,  22,   6]])"
            ]
          },
          "metadata": {},
          "execution_count": 45
        }
      ]
    },
    {
      "cell_type": "markdown",
      "source": [
        "21.\tDisplay wines with alcohol greater than 10 and quality greater than 7."
      ],
      "metadata": {
        "id": "rr1G9qm7CDoz"
      }
    },
    {
      "cell_type": "code",
      "source": [
        "wines[(wines[:,9]>10) & (wines[:,10]>7),9:11]"
      ],
      "metadata": {
        "colab": {
          "base_uri": "https://localhost:8080/"
        },
        "id": "04FvtDzyCEgN",
        "outputId": "aedc2826-2d96-422c-e7a3-e4ee30ff56d4"
      },
      "execution_count": 46,
      "outputs": [
        {
          "output_type": "execute_result",
          "data": {
            "text/plain": [
              "array([[666,  18],\n",
              "       [666,  18],\n",
              "       [666,  18],\n",
              "       ...,\n",
              "       [666,  22],\n",
              "       [666,  20],\n",
              "       [666,  22]])"
            ]
          },
          "metadata": {},
          "execution_count": 46
        }
      ]
    },
    {
      "cell_type": "markdown",
      "source": [
        "22.\tChange the shape of wines array."
      ],
      "metadata": {
        "id": "UyrPs0zHCL5l"
      }
    },
    {
      "cell_type": "code",
      "source": [
        "wines=wines.reshape(12,1599)\n",
        "wines.shape"
      ],
      "metadata": {
        "colab": {
          "base_uri": "https://localhost:8080/"
        },
        "id": "9JWiOkhfCO_q",
        "outputId": "d32d22cb-9c4a-4797-a284-e7381c044abe"
      },
      "execution_count": 47,
      "outputs": [
        {
          "output_type": "execute_result",
          "data": {
            "text/plain": [
              "(12, 1599)"
            ]
          },
          "metadata": {},
          "execution_count": 47
        }
      ]
    }
  ]
}